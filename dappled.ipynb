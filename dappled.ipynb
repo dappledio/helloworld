{
 "cells": [
  {
   "cell_type": "markdown",
   "metadata": {},
   "source": [
    "# Basic Dappled Applet\n",
    "\n",
    "This notebook shows the basic functionality available in a Dappled applet. Click on the *notebook* tab to see the code that powers this applet."
   ]
  },
  {
   "cell_type": "markdown",
   "metadata": {},
   "source": [
    "1. The first markdown cell (above) contains markdown of the title and description of this applet.\n",
    "2. The first code cell (below) contains the inputs, with default values assigned to `text` and `font`. \n",
    "    * Additionally, for `font` we provide a list of choices by defining a second variable `font_choices` containing the available choices.\n",
    "    * See these two applets for the full set of supported inputs: [standard inputs](https://dappled.io/dappledio/inputs-intro) and [additional inputs](https://dappled.io/dappledio/inputs-additional)\n",
    "\n",
    "3. In applet mode, the two variables are shown in a webform that the user can modify. Once the inputs are set, the rest of the notebook can be run using those inputs.\n",
    "\n",
    "4. Python and non-python software packages (i.e. what is supported by the conda ecosystem) can be installed into the applet. \n",
    "    * In this case `pyfiglet` was installed via `dappled install pyfiglet` at the command line and the information was automatically stored in `environment.yml`, which is stored alongside `dappled.ipynb`.\n",
    "    \n",
    "Click on the *applet* tab and try it out!"
   ]
  },
  {
   "cell_type": "code",
   "execution_count": 1,
   "metadata": {},
   "outputs": [],
   "source": [
    "text = 'Hello world!'\n",
    "\n",
    "font = 'standard'\n",
    "font__choices = ['standard', 'sub-zero','flowerpower', 'starwars', 'bear', 'fender', '3d_diagonal', \n",
    "                'cards', 'isometric1', 'avatar', 'dietcola', 'shadow', 'characte', 'sans', \n",
    "                'bulbhead', 'doh', 'smscript', 'xbritebi', 'graceful',]"
   ]
  },
  {
   "cell_type": "code",
   "execution_count": 2,
   "metadata": {},
   "outputs": [
    {
     "name": "stdout",
     "output_type": "stream",
     "text": [
      " _   _      _ _                            _     _ _ \n",
      "| | | | ___| | | ___   __      _____  _ __| | __| | |\n",
      "| |_| |/ _ \\ | |/ _ \\  \\ \\ /\\ / / _ \\| '__| |/ _` | |\n",
      "|  _  |  __/ | | (_) |  \\ V  V / (_) | |  | | (_| |_|\n",
      "|_| |_|\\___|_|_|\\___/    \\_/\\_/ \\___/|_|  |_|\\__,_(_)\n",
      "                                                     \n",
      "\n"
     ]
    }
   ],
   "source": [
    "import pyfiglet\n",
    "\n",
    "f = pyfiglet.Figlet(font=font)\n",
    "print(f.renderText(text))"
   ]
  }
 ],
 "metadata": {
  "kernelspec": {
   "display_name": "Python 3",
   "language": "python",
   "name": "python3"
  },
  "language_info": {
   "codemirror_mode": {
    "name": "ipython",
    "version": 3
   },
   "file_extension": ".py",
   "mimetype": "text/x-python",
   "name": "python",
   "nbconvert_exporter": "python",
   "pygments_lexer": "ipython3",
   "version": "3.6.7"
  }
 },
 "nbformat": 4,
 "nbformat_minor": 2
}
